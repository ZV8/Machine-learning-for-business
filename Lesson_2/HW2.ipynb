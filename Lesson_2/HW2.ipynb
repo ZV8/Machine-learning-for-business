{
 "cells": [
  {
   "cell_type": "markdown",
   "metadata": {},
   "source": [
    "### Урок 2. Профилирование пользователей. Сегментация аудитории: unsupervised learning (clustering, LDA/ARTM), supervised (multi/binary classification)"
   ]
  },
  {
   "cell_type": "markdown",
   "source": [
    "#### Домашнее задание\n",
    "Самостоятельно разобраться с тем, что такое tfidf (документация https://scikit-learn.org/stable/modules/generated/sklearn.feature_extraction.text.TfidfVectorizer.html и еще - https://scikit-learn.org/stable/modules/feature_extraction.html#text-feature-extraction)\n",
    "\n",
    "Модифицировать код функции get_user_embedding таким образом, чтобы считалось не среднее (как в примере np.mean), а медиана. Применить такое преобразование к данным, обучить модель прогнозирования оттока и посчитать метрики качества и сохранить их: roc auc, precision/recall/f_score (для 3 последних - подобрать оптимальный порог с помощью precision_recall_curve, как это делалось на уроке)\n",
    "\n",
    "Повторить п.2, но используя уже не медиану, а max\n",
    "(опциональное, если очень хочется) Воспользовавшись полученными знаниями из п.1, повторить пункт 2, но уже взвешивая новости по tfidf (подсказка: нужно получить веса-коэффициенты для каждого документа. Не все документы одинаково информативны и несут какой-то положительный сигнал). Подсказка 2 - нужен именно idf, как вес.\n",
    "\n",
    "Сформировать на выходе единую таблицу, сравнивающую качество 3 разных метода получения эмбедингов пользователей: mean, median, max, idf_mean по метрикам roc_auc, precision, recall, f_score\n",
    "\n",
    "Сделать самостоятельные выводы и предположения о том, почему тот или ной способ оказался эффективнее остальных"
   ],
   "metadata": {
    "collapsed": false
   }
  },
  {
   "cell_type": "markdown",
   "metadata": {},
   "source": [
    "Рассматривать мы все будем в контексте решения конкретной прикладной задачи - задачи оттока\n",
    "\n",
    "профилирование аудитории новостного портала\n"
   ]
  },
  {
   "cell_type": "markdown",
   "metadata": {},
   "source": [
    "Представим, что мы - компания-агрегатор новостей (новостной портал).\n",
    "\n",
    "У нас есть:\n",
    "\n",
    "1. читатели\n",
    "2. новости\n",
    "\n",
    "Для каждого пользователя мы можем за какой-то период (например, 1 день) достать из базы данных список прочитанных им новостей.\n",
    "\n",
    "Для каждой новости мы можем вытащить текст и метаинформацию.\n",
    "\n",
    "### Задача #1: нужно построить модель прогнозирования оттока - это наша downstream-задача. "
   ]
  },
  {
   "cell_type": "markdown",
   "metadata": {},
   "source": [
    "Нам нужны:\n",
    "\n",
    "1. векторное представление пользователя\n",
    "2. сегменты, описывающие интересы пользователя\n",
    "\n",
    "p.s. в контексте нашей задачи - это одно и то же"
   ]
  },
  {
   "cell_type": "markdown",
   "metadata": {},
   "source": [
    "### С чего начнем?"
   ]
  },
  {
   "cell_type": "markdown",
   "metadata": {},
   "source": [
    "С векторного представления и сегментов новостей!"
   ]
  },
  {
   "cell_type": "markdown",
   "metadata": {},
   "source": [
    "Есть два очевидных варианта как это сделать:\n",
    "\n",
    "1. многоклассовая классификация\n",
    "2. кластеризация документов с последующей попыткой их (кластера) интерпретировать"
   ]
  },
  {
   "cell_type": "markdown",
   "metadata": {},
   "source": [
    "Проблема:"
   ]
  },
  {
   "cell_type": "markdown",
   "metadata": {},
   "source": [
    "1. для классификации нам нужно сначала разметить новости - привлечение ручного труда"
   ]
  },
  {
   "cell_type": "markdown",
   "metadata": {},
   "source": [
    "### Задача тематического моделирования"
   ]
  },
  {
   "cell_type": "markdown",
   "metadata": {},
   "source": [
    "#### Неформально!"
   ]
  },
  {
   "cell_type": "markdown",
   "metadata": {},
   "source": [
    "- на свете бывают темы (заранее неизвестные), которые отражают то, о чём могут быть части документа;\n",
    "- каждая тема – это распределение вероятностей на словах, т.е. мешок слов, из которого можно с разной вероятностью вытащить разные слова;\n",
    "- каждый документ – это смесь тем, т.е. распределение вероятностей на темах, кубик, который можно кинуть;\n",
    "- процесс порождения каждого слова состоит в том, чтобы сначала выбрать тему по распределению, соответствующему документу, а затем выбрать слово из распределения, соответствующего этой теме."
   ]
  },
  {
   "cell_type": "markdown",
   "metadata": {},
   "source": [
    "Вероятностные модели удобно понимать и представлять в виде порождающих процессов (generative processes), когда мы последовательно описываем, как порождается одна единица данных, вводя по ходу дела все вероятностные предположения, которые мы в этой модели делаем. Соответственно, порождающий процесс для LDA должен последовательно описывать, как мы порождаем каждое слово каждого документа. И вот как это происходит (здесь и далее я буду предполагать, что длина каждого документа задана – её тоже можно добавить в модель, но обычно это ничего нового не даёт):"
   ]
  },
  {
   "cell_type": "markdown",
   "metadata": {},
   "source": [
    "1. для каждой темы t выбираем вектор phi_t - распределение слов в теме\n",
    "\n",
    "2. для каждого документа d:\n",
    "\n",
    "    2.1 выбираем Theta_d - распределение тем в документе\n",
    "    \n",
    "    2.2 для каждого из слов документа w:\n",
    "        2.2.1 выбираем тему z~Theta_d\n",
    "        2.2.2 выбираем слово w~p(w|z, phi)"
   ]
  },
  {
   "cell_type": "markdown",
   "metadata": {},
   "source": [
    "#### Чуть более формально"
   ]
  },
  {
   "cell_type": "markdown",
   "metadata": {},
   "source": [
    "Терминология:\n",
    "\n",
    "1. документ - коллекция слов \n",
    "2. тема - набор токенов (слов), совместно часто встречающихся в документах\n",
    "\n",
    "Более формально:\n",
    "\n",
    "1. тема - условное распределение на множестве терминов, p(w|t)\n",
    "2. тематический профиль документа - условное распределение тем p(t|d)\n",
    "\n",
    "Вопрос: что же нам дано (в терминах условной вероятности)?\n",
    "\n",
    "Ответ: условное распределение слов в документах - p(w|d)"
   ]
  },
  {
   "cell_type": "markdown",
   "metadata": {},
   "source": [
    "Прекрасное объяснение от Воронцова - http://www.machinelearning.ru/wiki/images/d/d5/Voron17survey-artm.pdf"
   ]
  },
  {
   "cell_type": "markdown",
   "metadata": {},
   "source": [
    "Тематическая модель позволяет нам получить p(w|t), p(t|d) по известным p(w|d)"
   ]
  },
  {
   "cell_type": "markdown",
   "metadata": {},
   "source": [
    "### Переходим к практике"
   ]
  },
  {
   "cell_type": "code",
   "execution_count": 1,
   "metadata": {},
   "outputs": [
    {
     "name": "stderr",
     "output_type": "stream",
     "text": [
      "/Users/vladimir/opt/anaconda3/envs/DataScience/lib/python3.7/site-packages/gensim/similarities/__init__.py:15: UserWarning: The gensim.similarities.levenshtein submodule is disabled, because the optional Levenshtein package <https://pypi.org/project/python-Levenshtein/> is unavailable. Install Levenhstein (e.g. `pip install python-Levenshtein`) to suppress this warning.\n",
      "  warnings.warn(msg)\n",
      "\n",
      "Bad key savefig.frameon in file /Users/vladimir/opt/anaconda3/envs/DataScience/lib/python3.7/site-packages/matplotlib/mpl-data/stylelib/_classic_test.mplstyle, line 421 ('savefig.frameon : True')\n",
      "You probably need to get an updated matplotlibrc file from\n",
      "https://github.com/matplotlib/matplotlib/blob/v3.3.2/matplotlibrc.template\n",
      "or from the matplotlib source distribution\n",
      "\n",
      "Bad key verbose.level in file /Users/vladimir/opt/anaconda3/envs/DataScience/lib/python3.7/site-packages/matplotlib/mpl-data/stylelib/_classic_test.mplstyle, line 472 ('verbose.level  : silent      # one of silent, helpful, debug, debug-annoying')\n",
      "You probably need to get an updated matplotlibrc file from\n",
      "https://github.com/matplotlib/matplotlib/blob/v3.3.2/matplotlibrc.template\n",
      "or from the matplotlib source distribution\n",
      "\n",
      "Bad key verbose.fileo in file /Users/vladimir/opt/anaconda3/envs/DataScience/lib/python3.7/site-packages/matplotlib/mpl-data/stylelib/_classic_test.mplstyle, line 473 ('verbose.fileo  : sys.stdout  # a log filename, sys.stdout or sys.stderr')\n",
      "You probably need to get an updated matplotlibrc file from\n",
      "https://github.com/matplotlib/matplotlib/blob/v3.3.2/matplotlibrc.template\n",
      "or from the matplotlib source distribution\n",
      "In /Users/vladimir/opt/anaconda3/envs/DataScience/lib/python3.7/site-packages/matplotlib/mpl-data/stylelib/_classic_test.mplstyle: \n",
      "The text.latex.preview rcparam was deprecated in Matplotlib 3.3 and will be removed two minor releases later.\n",
      "In /Users/vladimir/opt/anaconda3/envs/DataScience/lib/python3.7/site-packages/matplotlib/mpl-data/stylelib/_classic_test.mplstyle: \n",
      "The mathtext.fallback_to_cm rcparam was deprecated in Matplotlib 3.3 and will be removed two minor releases later.\n",
      "In /Users/vladimir/opt/anaconda3/envs/DataScience/lib/python3.7/site-packages/matplotlib/mpl-data/stylelib/_classic_test.mplstyle: Support for setting the 'mathtext.fallback_to_cm' rcParam is deprecated since 3.3 and will be removed two minor releases later; use 'mathtext.fallback : 'cm' instead.\n",
      "In /Users/vladimir/opt/anaconda3/envs/DataScience/lib/python3.7/site-packages/matplotlib/mpl-data/stylelib/_classic_test.mplstyle: \n",
      "The validate_bool_maybe_none function was deprecated in Matplotlib 3.3 and will be removed two minor releases later.\n",
      "In /Users/vladimir/opt/anaconda3/envs/DataScience/lib/python3.7/site-packages/matplotlib/mpl-data/stylelib/_classic_test.mplstyle: \n",
      "The savefig.jpeg_quality rcparam was deprecated in Matplotlib 3.3 and will be removed two minor releases later.\n",
      "In /Users/vladimir/opt/anaconda3/envs/DataScience/lib/python3.7/site-packages/matplotlib/mpl-data/stylelib/_classic_test.mplstyle: \n",
      "The keymap.all_axes rcparam was deprecated in Matplotlib 3.3 and will be removed two minor releases later.\n",
      "In /Users/vladimir/opt/anaconda3/envs/DataScience/lib/python3.7/site-packages/matplotlib/mpl-data/stylelib/_classic_test.mplstyle: \n",
      "The animation.avconv_path rcparam was deprecated in Matplotlib 3.3 and will be removed two minor releases later.\n",
      "In /Users/vladimir/opt/anaconda3/envs/DataScience/lib/python3.7/site-packages/matplotlib/mpl-data/stylelib/_classic_test.mplstyle: \n",
      "The animation.avconv_args rcparam was deprecated in Matplotlib 3.3 and will be removed two minor releases later.\n"
     ]
    }
   ],
   "source": [
    "import pandas as pd\n",
    "import re\n",
    "import numpy as np\n",
    "from nltk.corpus import stopwords\n",
    "\n",
    "from razdel import tokenize # https://github.com/natasha/razdel\n",
    "#!pip install razdel\n",
    "\n",
    "import pymorphy2\n",
    "\n",
    "from gensim.corpora.dictionary import Dictionary\n",
    "from gensim.models import LdaModel\n",
    "from gensim.test.utils import datapath\n",
    "from sklearn.linear_model import LogisticRegression\n",
    "from sklearn.model_selection import train_test_split\n",
    "from sklearn.metrics import f1_score, roc_auc_score, precision_score, classification_report, precision_recall_curve, confusion_matrix\n",
    "\n",
    "import itertools\n",
    "\n",
    "import matplotlib.pyplot as plt\n",
    "%matplotlib inline\n",
    "\n",
    "# загрузка стопслов\n",
    "# import nltk\n",
    "# nltk.download('stopwords')"
   ]
  },
  {
   "cell_type": "markdown",
   "metadata": {},
   "source": [
    "Наши новости"
   ]
  },
  {
   "cell_type": "code",
   "execution_count": 2,
   "metadata": {},
   "outputs": [
    {
     "name": "stdout",
     "output_type": "stream",
     "text": [
      "(27000, 2)\n"
     ]
    },
    {
     "data": {
      "text/plain": "   doc_id                                              title\n0       6  Заместитель председателяnправительства РФnСерг...\n1    4896  Матч 1/16 финала Кубка России по футболу был п...\n2    4897  Форвард «Авангарда» Томаш Заборский прокоммент...",
      "text/html": "<div>\n<style scoped>\n    .dataframe tbody tr th:only-of-type {\n        vertical-align: middle;\n    }\n\n    .dataframe tbody tr th {\n        vertical-align: top;\n    }\n\n    .dataframe thead th {\n        text-align: right;\n    }\n</style>\n<table border=\"1\" class=\"dataframe\">\n  <thead>\n    <tr style=\"text-align: right;\">\n      <th></th>\n      <th>doc_id</th>\n      <th>title</th>\n    </tr>\n  </thead>\n  <tbody>\n    <tr>\n      <th>0</th>\n      <td>6</td>\n      <td>Заместитель председателяnправительства РФnСерг...</td>\n    </tr>\n    <tr>\n      <th>1</th>\n      <td>4896</td>\n      <td>Матч 1/16 финала Кубка России по футболу был п...</td>\n    </tr>\n    <tr>\n      <th>2</th>\n      <td>4897</td>\n      <td>Форвард «Авангарда» Томаш Заборский прокоммент...</td>\n    </tr>\n  </tbody>\n</table>\n</div>"
     },
     "execution_count": 2,
     "metadata": {},
     "output_type": "execute_result"
    }
   ],
   "source": [
    "news = pd.read_csv(\"articles.csv\")\n",
    "print(news.shape)\n",
    "news.head(3)"
   ]
  },
  {
   "cell_type": "markdown",
   "metadata": {},
   "source": [
    "Загрузим пользователей и списки последних прочитанных новостей"
   ]
  },
  {
   "cell_type": "code",
   "execution_count": 3,
   "metadata": {},
   "outputs": [
    {
     "data": {
      "text/plain": "       uid                                        articles\n0  u105138  [293672, 293328, 293001, 293622, 293126, 1852]\n1  u108690          [3405, 1739, 2972, 1158, 1599, 322665]\n2  u108339          [1845, 2009, 2356, 1424, 2939, 323389]",
      "text/html": "<div>\n<style scoped>\n    .dataframe tbody tr th:only-of-type {\n        vertical-align: middle;\n    }\n\n    .dataframe tbody tr th {\n        vertical-align: top;\n    }\n\n    .dataframe thead th {\n        text-align: right;\n    }\n</style>\n<table border=\"1\" class=\"dataframe\">\n  <thead>\n    <tr style=\"text-align: right;\">\n      <th></th>\n      <th>uid</th>\n      <th>articles</th>\n    </tr>\n  </thead>\n  <tbody>\n    <tr>\n      <th>0</th>\n      <td>u105138</td>\n      <td>[293672, 293328, 293001, 293622, 293126, 1852]</td>\n    </tr>\n    <tr>\n      <th>1</th>\n      <td>u108690</td>\n      <td>[3405, 1739, 2972, 1158, 1599, 322665]</td>\n    </tr>\n    <tr>\n      <th>2</th>\n      <td>u108339</td>\n      <td>[1845, 2009, 2356, 1424, 2939, 323389]</td>\n    </tr>\n  </tbody>\n</table>\n</div>"
     },
     "execution_count": 3,
     "metadata": {},
     "output_type": "execute_result"
    }
   ],
   "source": [
    "users = pd.read_csv(\"users_articles.csv\")\n",
    "users.head(3)"
   ]
  },
  {
   "cell_type": "markdown",
   "metadata": {},
   "source": [
    "Итак, нам нужно получить векторные представления пользователей на основе прочитанным ими новостей и самих новостей"
   ]
  },
  {
   "cell_type": "markdown",
   "metadata": {},
   "source": [
    "### 1. Получаем векторные представления новостей"
   ]
  },
  {
   "cell_type": "code",
   "execution_count": 4,
   "metadata": {},
   "outputs": [
    {
     "name": "stdout",
     "output_type": "stream",
     "text": [
      "151\n",
      "777\n"
     ]
    }
   ],
   "source": [
    "stopword_ru = stopwords.words('russian')\n",
    "print(len(stopword_ru))\n",
    "\n",
    "with open('stopwords.txt') as f:\n",
    "    additional_stopwords = [w.strip() for w in f.readlines() if w]\n",
    "stopword_ru += additional_stopwords\n",
    "print(len(stopword_ru))"
   ]
  },
  {
   "cell_type": "code",
   "execution_count": 5,
   "metadata": {},
   "outputs": [],
   "source": [
    "morph = pymorphy2.MorphAnalyzer()\n",
    "\n",
    "def clean_text(text):\n",
    "    '''\n",
    "    очистка текста\n",
    "    \n",
    "    на выходе очищеный текст\n",
    "    \n",
    "    '''\n",
    "    if not isinstance(text, str):\n",
    "        text = str(text)\n",
    "    \n",
    "    text = text.lower()\n",
    "    text = text.strip('\\n').strip('\\r').strip('\\t')\n",
    "    text = re.sub(\"-\\s\\r\\n\\|-\\s\\r\\n|\\r\\n\", '', str(text))\n",
    "\n",
    "    text = re.sub(\"[0-9]|[-—.,:;_%©«»?*!@#№$^•·&()]|[+=]|[[]|[]]|[/]|\", '', text)\n",
    "    text = re.sub(r\"\\r\\n\\t|\\n|\\\\s|\\r\\t|\\\\n\", ' ', text)\n",
    "    text = re.sub(r'[\\xad]|[\\s+]', ' ', text.strip())\n",
    "    \n",
    "    #tokens = list(tokenize(text))\n",
    "    #words = [_.text for _ in tokens]\n",
    "    #words = [w for w in words if w not in stopword_ru]\n",
    "    \n",
    "    #return \" \".join(words)\n",
    "    return text\n",
    "\n",
    "cache = {}\n",
    "\n",
    "def lemmatization(text):\n",
    "    '''\n",
    "    лемматизация\n",
    "        [0] если зашел тип не `str` делаем его `str`\n",
    "        [1] токенизация предложения через razdel\n",
    "        [2] проверка есть ли в начале слова '-'\n",
    "        [3] проверка токена с одного символа\n",
    "        [4] проверка есть ли данное слово в кэше\n",
    "        [5] лемматизация слова\n",
    "        [6] проверка на стоп-слова\n",
    "\n",
    "    на выходе лист отлемматизированых токенов\n",
    "    '''\n",
    "\n",
    "    # [0]\n",
    "    if not isinstance(text, str):\n",
    "        text = str(text)\n",
    "    \n",
    "    # [1]\n",
    "    tokens = list(tokenize(text))\n",
    "    words = [_.text for _ in tokens]\n",
    "\n",
    "    words_lem = []\n",
    "    for w in words:\n",
    "        if w[0] == '-': # [2]\n",
    "            w = w[1:]\n",
    "        if len(w)>1: # [3]\n",
    "            if w in cache: # [4]\n",
    "                words_lem.append(cache[w])\n",
    "            else: # [5]\n",
    "                temp_cach = cache[w] = morph.parse(w)[0].normal_form\n",
    "                words_lem.append(temp_cach)\n",
    "    \n",
    "    words_lem_without_stopwords=[i for i in words_lem if not i in stopword_ru] # [6]\n",
    "    \n",
    "    return words_lem_without_stopwords"
   ]
  },
  {
   "cell_type": "code",
   "execution_count": 6,
   "metadata": {
    "scrolled": true
   },
   "outputs": [
    {
     "name": "stderr",
     "output_type": "stream",
     "text": [
      "/Users/vladimir/opt/anaconda3/envs/DataScience/lib/python3.7/site-packages/ipykernel_launcher.py:17: FutureWarning: Possible nested set at position 39\n"
     ]
    },
    {
     "name": "stdout",
     "output_type": "stream",
     "text": [
      "CPU times: user 22.8 s, sys: 246 ms, total: 23 s\n",
      "Wall time: 23.6 s\n"
     ]
    }
   ],
   "source": [
    "%%time\n",
    "#Запускаем очистку текста. Будет долго...\n",
    "news['title'] = news['title'].apply(lambda x: clean_text(x), 1)"
   ]
  },
  {
   "cell_type": "code",
   "execution_count": 7,
   "metadata": {},
   "outputs": [
    {
     "name": "stdout",
     "output_type": "stream",
     "text": [
      "CPU times: user 3min 2s, sys: 1.05 s, total: 3min 3s\n",
      "Wall time: 3min 6s\n"
     ]
    }
   ],
   "source": [
    "%%time\n",
    "#Запускаем лемматизацию текста. Будет очень долго...\n",
    "news['title'] = news['title'].apply(lambda x: lemmatization(x), 1)"
   ]
  },
  {
   "cell_type": "markdown",
   "metadata": {},
   "source": [
    "А теперь в 3 строчки обучим нашу модель"
   ]
  },
  {
   "cell_type": "code",
   "execution_count": 8,
   "metadata": {},
   "outputs": [
    {
     "data": {
      "text/plain": "0        [заместитель, председатель, правительство, рф,...\n1        [матч, финал, кубок, россия, футбол, приостано...\n2        [форвард, авангард, томаш, заборский, прокомме...\n3        [главный, тренер, кубань, юрий, красножанин, п...\n4        [решение, попечительский, совет, владивостокск...\n                               ...                        \n26995    [учёный, токийский, университет, морской, наук...\n26996    [глава, кафедра, отечественный, история, xx, в...\n26997    [американский, учёный, уточнить, возраст, расп...\n26998    [последний, тропический, углеродный, цикл, чув...\n26999    [жить, примерно, тыс, назад, территория, совре...\nName: title, Length: 27000, dtype: object"
     },
     "execution_count": 8,
     "metadata": {},
     "output_type": "execute_result"
    }
   ],
   "source": [
    "news['title']"
   ]
  },
  {
   "cell_type": "code",
   "execution_count": 9,
   "metadata": {},
   "outputs": [],
   "source": [
    "#сформируем список наших текстов, разбив еще и на пробелы\n",
    "texts = [t for t in news['title'].values]\n",
    "\n",
    "# Create a corpus from a list of texts\n",
    "common_dictionary = Dictionary(texts)\n",
    "common_corpus = [common_dictionary.doc2bow(text) for text in texts]"
   ]
  },
  {
   "cell_type": "markdown",
   "metadata": {},
   "source": [
    "common_dictionary - это словарь наших слов"
   ]
  },
  {
   "cell_type": "code",
   "execution_count": 10,
   "metadata": {},
   "outputs": [
    {
     "data": {
      "text/plain": "'взаимодействие'"
     },
     "execution_count": 10,
     "metadata": {},
     "output_type": "execute_result"
    }
   ],
   "source": [
    "common_dictionary[10]"
   ]
  },
  {
   "cell_type": "markdown",
   "source": [
    "common_corpus - это корпус Bag of Words (число вхождений каждого слова; результат возвращается в виде разреженного вектора)"
   ],
   "metadata": {
    "collapsed": false
   }
  },
  {
   "cell_type": "code",
   "execution_count": 11,
   "outputs": [
    {
     "data": {
      "text/plain": "[[(0, 2),\n  (1, 1),\n  (2, 2),\n  (3, 1),\n  (4, 1),\n  (5, 1),\n  (6, 1),\n  (7, 1),\n  (8, 1),\n  (9, 1),\n  (10, 1),\n  (11, 1),\n  (12, 1),\n  (13, 1),\n  (14, 1),\n  (15, 4),\n  (16, 1),\n  (17, 1),\n  (18, 4),\n  (19, 1),\n  (20, 1),\n  (21, 3),\n  (22, 1),\n  (23, 1),\n  (24, 1),\n  (25, 1),\n  (26, 1),\n  (27, 1),\n  (28, 2),\n  (29, 1),\n  (30, 1),\n  (31, 1),\n  (32, 1),\n  (33, 1),\n  (34, 1),\n  (35, 1),\n  (36, 1),\n  (37, 1),\n  (38, 1),\n  (39, 1),\n  (40, 1),\n  (41, 1),\n  (42, 1),\n  (43, 1),\n  (44, 2),\n  (45, 1),\n  (46, 2),\n  (47, 1),\n  (48, 1),\n  (49, 1),\n  (50, 1),\n  (51, 1),\n  (52, 1),\n  (53, 1),\n  (54, 1),\n  (55, 1),\n  (56, 1),\n  (57, 3),\n  (58, 1),\n  (59, 1),\n  (60, 1),\n  (61, 1),\n  (62, 1),\n  (63, 1),\n  (64, 1),\n  (65, 1),\n  (66, 3),\n  (67, 1),\n  (68, 1),\n  (69, 1),\n  (70, 3),\n  (71, 1),\n  (72, 1),\n  (73, 1),\n  (74, 1),\n  (75, 1),\n  (76, 1),\n  (77, 1),\n  (78, 1),\n  (79, 1),\n  (80, 1),\n  (81, 1),\n  (82, 1),\n  (83, 1),\n  (84, 1),\n  (85, 1),\n  (86, 1),\n  (87, 1),\n  (88, 3),\n  (89, 2),\n  (90, 1)]]"
     },
     "execution_count": 11,
     "metadata": {},
     "output_type": "execute_result"
    }
   ],
   "source": [
    "common_corpus[:1]"
   ],
   "metadata": {
    "collapsed": false,
    "pycharm": {
     "name": "#%%\n"
    }
   }
  },
  {
   "cell_type": "markdown",
   "metadata": {},
   "source": [
    "Запускаем обучение"
   ]
  },
  {
   "cell_type": "code",
   "execution_count": 12,
   "metadata": {},
   "outputs": [
    {
     "name": "stdout",
     "output_type": "stream",
     "text": [
      "CPU times: user 1min 9s, sys: 2.07 s, total: 1min 11s\n",
      "Wall time: 27 s\n"
     ]
    }
   ],
   "source": [
    "%%time\n",
    "# Train the model on the corpus.\n",
    "lda = LdaModel(common_corpus, num_topics=25, id2word=common_dictionary)#, passes=10)"
   ]
  },
  {
   "cell_type": "code",
   "execution_count": 13,
   "metadata": {},
   "outputs": [],
   "source": [
    "# Save model to disk.\n",
    "temp_file = datapath(\"model.lda\")\n",
    "lda.save(temp_file)\n",
    "\n",
    "# Load a potentially pretrained model from disk.\n",
    "lda = LdaModel.load(temp_file)"
   ]
  },
  {
   "cell_type": "markdown",
   "metadata": {},
   "source": [
    "Обучили модель. Теперь 2 вопроса:\n",
    "\n",
    "1. как выглядят наши темы\n",
    "2. как получить для документа вектор значений (вероятности принадлежности каждой теме)"
   ]
  },
  {
   "cell_type": "code",
   "execution_count": 14,
   "metadata": {},
   "outputs": [
    {
     "name": "stdout",
     "output_type": "stream",
     "text": [
      "['заместитель', 'председатель', 'правительство', 'рф', 'сергей', 'иванов', 'избрать', 'председатель', 'совет', 'пбк', 'цска', 'прессслужба', 'армеец', 'решение', 'единогласно', 'принять', 'первый', 'заседание', 'совет', 'клуб', 'основной', 'функция', 'орган', 'обсуждение', 'текущий', 'состояние', 'планирование', 'утверждение', 'стратегия', 'развитие', 'клуб', 'близкий', 'перспектива', 'состав', 'совет', 'войти', 'георгий', 'полтавченко', 'полномочный', 'центральный', 'федеральный', 'округ', 'алексей', 'седов', 'генералполковник', 'начальник', 'служба', 'защита', 'конституционный', 'строй', 'борьба', 'терроризм', 'фсб', 'рф', 'александр', 'новак', 'заместитель', 'министр', 'финансы', 'рф', 'вячеслав', 'полтавец', 'заместитель', 'генеральный', 'директор', 'руководитель', 'блок', 'взаимодействие', 'орган', 'власть', 'социальный', 'корпоративный', 'политика', 'гмк', 'норильский', 'никель', 'леонид', 'исакович', 'генеральный', 'директор', 'ооо', 'ук', 'спортивный', 'проект', 'ольга', 'плешаков', 'генеральный', 'директор', 'трансаэро', 'александр', 'провоторов', 'генеральный', 'директор', 'оао', 'ростелеком', 'андрей', 'лопат', 'эксигрок', 'цска', 'чемпион', 'мир', 'трёхкратный', 'чемпион', 'европа', 'баскетбол', 'председатель', 'правление', 'банк', 'клиентский', 'андрей', 'ватутин', 'пбк', 'цска']\n"
     ]
    },
    {
     "data": {
      "text/plain": "[(0, 0.06770602), (9, 0.8946531), (12, 0.017512504), (15, 0.011634639)]"
     },
     "execution_count": 14,
     "metadata": {},
     "output_type": "execute_result"
    }
   ],
   "source": [
    "# Create a new corpus, made of previously unseen documents.\n",
    "other_texts = [t for t in news['title']]\n",
    "other_corpus = [common_dictionary.doc2bow(text) for text in other_texts]\n",
    "\n",
    "unseen_doc = other_corpus[0]\n",
    "print(other_texts[0])\n",
    "lda[unseen_doc]"
   ]
  },
  {
   "cell_type": "code",
   "execution_count": 15,
   "outputs": [
    {
     "data": {
      "text/plain": "27000"
     },
     "execution_count": 15,
     "metadata": {},
     "output_type": "execute_result"
    }
   ],
   "source": [
    "len(other_texts)"
   ],
   "metadata": {
    "collapsed": false,
    "pycharm": {
     "name": "#%%\n"
    }
   }
  },
  {
   "cell_type": "code",
   "execution_count": 16,
   "metadata": {},
   "outputs": [
    {
     "name": "stdout",
     "output_type": "stream",
     "text": [
      "topic_0: сократиться определение рекорд кг сооружение концерн партнёрство\n",
      "topic_1: дональд греция билет бесплатный отреагировать вина саммит\n",
      "topic_2: ракета страдать кремль путин сенатор парламент песок\n",
      "topic_3: украина россия глава российский москва украинский документ\n",
      "topic_4: ребёнок обнаружить дом семья британский обращение след\n",
      "topic_5: миссия земля рейс снизить рост достигать перевод\n",
      "topic_6: рубль выплата размер депутат закон россия налог\n",
      "topic_7: место конкурс сигнал тыс сайт автор мир\n",
      "topic_8: млн доход составить доллар тыс стоимость производитель\n",
      "topic_9: млрд банк проект рубль наука министерство средство\n",
      "topic_10: взрыв космос лечение законодательство автор врач медицинский\n",
      "topic_11: сша китай остров университет восток северный американский\n",
      "topic_12: всё рынок эксперт новый решение российский россия\n",
      "topic_13: сша американский погибнуть научный запуск проверка анализ\n",
      "topic_14: всё риск очень первый земля большой хороший\n",
      "topic_15: век больной налоговый мышь пенсия распоряжение освобождение\n",
      "topic_16: писать москва смерть жизнь исследование научный район\n",
      "topic_17: статья день температура журнал фильм норма девушка\n",
      "topic_18: фестиваль авария мероприятие вуз научный знаменитый программа\n",
      "topic_19: исследование новый станция территория центр объём управление\n",
      "topic_20: россия цена государство экономика система российский правительство\n",
      "topic_21: военный фонд тело мозг операция товар запустить\n",
      "topic_22: газ квартира бизнесмен сектор годовой следствие предприниматель\n",
      "topic_23: мужчина сотрудник убийство орган уголовный обвинение преступление\n",
      "topic_24: гражданин фронт народный вирус россиянин артист польша\n"
     ]
    }
   ],
   "source": [
    "x=lda.show_topics(num_topics=25, num_words=7,formatted=False)\n",
    "topics_words = [(tp[0], [wd[0] for wd in tp[1]]) for tp in x]\n",
    "\n",
    "#Below Code Prints Only Words \n",
    "for topic,words in topics_words:\n",
    "    print(\"topic_{}: \".format(topic)+\" \".join(words))"
   ]
  },
  {
   "cell_type": "markdown",
   "metadata": {},
   "source": [
    "Очень неплохо - большинство тем вполне можно описать о чем они"
   ]
  },
  {
   "cell_type": "code",
   "execution_count": 17,
   "metadata": {},
   "outputs": [],
   "source": [
    "def get_lda_vector(text):\n",
    "    unseen_doc = common_dictionary.doc2bow(text)\n",
    "    lda_tuple = lda[unseen_doc]\n",
    "    not_null_topics = dict(zip([i[0] for i in lda_tuple], [i[1] for i in lda_tuple]))\n",
    "\n",
    "    output_vector = []\n",
    "    for i in range(25):\n",
    "        if i not in not_null_topics:\n",
    "            output_vector.append(0)\n",
    "        else:\n",
    "            output_vector.append(not_null_topics[i])\n",
    "    return np.array(output_vector)"
   ]
  },
  {
   "cell_type": "code",
   "execution_count": 18,
   "metadata": {},
   "outputs": [
    {
     "data": {
      "text/plain": "   doc_id   topic_0  topic_1   topic_2   topic_3   topic_4   topic_5  \\\n0       6  0.067708   0.0000  0.000000  0.000000  0.000000  0.000000   \n1    4896  0.204380   0.2844  0.000000  0.000000  0.000000  0.000000   \n2    4897  0.155886   0.0000  0.000000  0.000000  0.000000  0.072306   \n3    4898  0.056085   0.0000  0.000000  0.000000  0.037754  0.000000   \n4    4899  0.039151   0.0000  0.044798  0.344482  0.000000  0.000000   \n\n    topic_6   topic_7  topic_8  ...  topic_15  topic_16  topic_17  topic_18  \\\n0  0.000000  0.000000      0.0  ...  0.011634       0.0  0.000000       0.0   \n1  0.000000  0.070094      0.0  ...  0.000000       0.0  0.000000       0.0   \n2  0.000000  0.143118      0.0  ...  0.000000       0.0  0.000000       0.0   \n3  0.000000  0.000000      0.0  ...  0.000000       0.0  0.239737       0.0   \n4  0.172364  0.124271      0.0  ...  0.030285       0.0  0.000000       0.0   \n\n   topic_19  topic_20  topic_21  topic_22  topic_23  topic_24  \n0       0.0  0.000000       0.0  0.000000       0.0  0.000000  \n1       0.0  0.000000       0.0  0.000000       0.0  0.000000  \n2       0.0  0.000000       0.0  0.120535       0.0  0.082161  \n3       0.0  0.047846       0.0  0.000000       0.0  0.000000  \n4       0.0  0.000000       0.0  0.027940       0.0  0.000000  \n\n[5 rows x 26 columns]",
      "text/html": "<div>\n<style scoped>\n    .dataframe tbody tr th:only-of-type {\n        vertical-align: middle;\n    }\n\n    .dataframe tbody tr th {\n        vertical-align: top;\n    }\n\n    .dataframe thead th {\n        text-align: right;\n    }\n</style>\n<table border=\"1\" class=\"dataframe\">\n  <thead>\n    <tr style=\"text-align: right;\">\n      <th></th>\n      <th>doc_id</th>\n      <th>topic_0</th>\n      <th>topic_1</th>\n      <th>topic_2</th>\n      <th>topic_3</th>\n      <th>topic_4</th>\n      <th>topic_5</th>\n      <th>topic_6</th>\n      <th>topic_7</th>\n      <th>topic_8</th>\n      <th>...</th>\n      <th>topic_15</th>\n      <th>topic_16</th>\n      <th>topic_17</th>\n      <th>topic_18</th>\n      <th>topic_19</th>\n      <th>topic_20</th>\n      <th>topic_21</th>\n      <th>topic_22</th>\n      <th>topic_23</th>\n      <th>topic_24</th>\n    </tr>\n  </thead>\n  <tbody>\n    <tr>\n      <th>0</th>\n      <td>6</td>\n      <td>0.067708</td>\n      <td>0.0000</td>\n      <td>0.000000</td>\n      <td>0.000000</td>\n      <td>0.000000</td>\n      <td>0.000000</td>\n      <td>0.000000</td>\n      <td>0.000000</td>\n      <td>0.0</td>\n      <td>...</td>\n      <td>0.011634</td>\n      <td>0.0</td>\n      <td>0.000000</td>\n      <td>0.0</td>\n      <td>0.0</td>\n      <td>0.000000</td>\n      <td>0.0</td>\n      <td>0.000000</td>\n      <td>0.0</td>\n      <td>0.000000</td>\n    </tr>\n    <tr>\n      <th>1</th>\n      <td>4896</td>\n      <td>0.204380</td>\n      <td>0.2844</td>\n      <td>0.000000</td>\n      <td>0.000000</td>\n      <td>0.000000</td>\n      <td>0.000000</td>\n      <td>0.000000</td>\n      <td>0.070094</td>\n      <td>0.0</td>\n      <td>...</td>\n      <td>0.000000</td>\n      <td>0.0</td>\n      <td>0.000000</td>\n      <td>0.0</td>\n      <td>0.0</td>\n      <td>0.000000</td>\n      <td>0.0</td>\n      <td>0.000000</td>\n      <td>0.0</td>\n      <td>0.000000</td>\n    </tr>\n    <tr>\n      <th>2</th>\n      <td>4897</td>\n      <td>0.155886</td>\n      <td>0.0000</td>\n      <td>0.000000</td>\n      <td>0.000000</td>\n      <td>0.000000</td>\n      <td>0.072306</td>\n      <td>0.000000</td>\n      <td>0.143118</td>\n      <td>0.0</td>\n      <td>...</td>\n      <td>0.000000</td>\n      <td>0.0</td>\n      <td>0.000000</td>\n      <td>0.0</td>\n      <td>0.0</td>\n      <td>0.000000</td>\n      <td>0.0</td>\n      <td>0.120535</td>\n      <td>0.0</td>\n      <td>0.082161</td>\n    </tr>\n    <tr>\n      <th>3</th>\n      <td>4898</td>\n      <td>0.056085</td>\n      <td>0.0000</td>\n      <td>0.000000</td>\n      <td>0.000000</td>\n      <td>0.037754</td>\n      <td>0.000000</td>\n      <td>0.000000</td>\n      <td>0.000000</td>\n      <td>0.0</td>\n      <td>...</td>\n      <td>0.000000</td>\n      <td>0.0</td>\n      <td>0.239737</td>\n      <td>0.0</td>\n      <td>0.0</td>\n      <td>0.047846</td>\n      <td>0.0</td>\n      <td>0.000000</td>\n      <td>0.0</td>\n      <td>0.000000</td>\n    </tr>\n    <tr>\n      <th>4</th>\n      <td>4899</td>\n      <td>0.039151</td>\n      <td>0.0000</td>\n      <td>0.044798</td>\n      <td>0.344482</td>\n      <td>0.000000</td>\n      <td>0.000000</td>\n      <td>0.172364</td>\n      <td>0.124271</td>\n      <td>0.0</td>\n      <td>...</td>\n      <td>0.030285</td>\n      <td>0.0</td>\n      <td>0.000000</td>\n      <td>0.0</td>\n      <td>0.0</td>\n      <td>0.000000</td>\n      <td>0.0</td>\n      <td>0.027940</td>\n      <td>0.0</td>\n      <td>0.000000</td>\n    </tr>\n  </tbody>\n</table>\n<p>5 rows × 26 columns</p>\n</div>"
     },
     "execution_count": 18,
     "metadata": {},
     "output_type": "execute_result"
    }
   ],
   "source": [
    "topic_matrix = pd.DataFrame([get_lda_vector(text) for text in news['title'].values])\n",
    "topic_matrix.columns = ['topic_{}'.format(i) for i in range(25)]\n",
    "topic_matrix['doc_id'] = news['doc_id'].values\n",
    "topic_matrix = topic_matrix[['doc_id']+['topic_{}'.format(i) for i in range(25)]]\n",
    "topic_matrix.head()"
   ]
  },
  {
   "cell_type": "markdown",
   "metadata": {},
   "source": [
    "Прекрасно, мы получили вектора наших новостей! И даже умеем интерпретировать получившиеся темы.\n",
    "\n",
    "Можно двигаться далее"
   ]
  },
  {
   "cell_type": "markdown",
   "metadata": {},
   "source": [
    "### Следующий шаг - векторные представления пользователей"
   ]
  },
  {
   "cell_type": "code",
   "execution_count": 19,
   "metadata": {
    "scrolled": true
   },
   "outputs": [
    {
     "data": {
      "text/plain": "       uid                                        articles\n0  u105138  [293672, 293328, 293001, 293622, 293126, 1852]\n1  u108690          [3405, 1739, 2972, 1158, 1599, 322665]\n2  u108339          [1845, 2009, 2356, 1424, 2939, 323389]",
      "text/html": "<div>\n<style scoped>\n    .dataframe tbody tr th:only-of-type {\n        vertical-align: middle;\n    }\n\n    .dataframe tbody tr th {\n        vertical-align: top;\n    }\n\n    .dataframe thead th {\n        text-align: right;\n    }\n</style>\n<table border=\"1\" class=\"dataframe\">\n  <thead>\n    <tr style=\"text-align: right;\">\n      <th></th>\n      <th>uid</th>\n      <th>articles</th>\n    </tr>\n  </thead>\n  <tbody>\n    <tr>\n      <th>0</th>\n      <td>u105138</td>\n      <td>[293672, 293328, 293001, 293622, 293126, 1852]</td>\n    </tr>\n    <tr>\n      <th>1</th>\n      <td>u108690</td>\n      <td>[3405, 1739, 2972, 1158, 1599, 322665]</td>\n    </tr>\n    <tr>\n      <th>2</th>\n      <td>u108339</td>\n      <td>[1845, 2009, 2356, 1424, 2939, 323389]</td>\n    </tr>\n  </tbody>\n</table>\n</div>"
     },
     "execution_count": 19,
     "metadata": {},
     "output_type": "execute_result"
    }
   ],
   "source": [
    "users.head(3)"
   ]
  },
  {
   "cell_type": "code",
   "execution_count": 20,
   "metadata": {},
   "outputs": [],
   "source": [
    "doc_dict = dict(zip(topic_matrix['doc_id'].values, topic_matrix[['topic_{}'.format(i) for i in range(25)]].values))"
   ]
  },
  {
   "cell_type": "code",
   "execution_count": 21,
   "metadata": {},
   "outputs": [],
   "source": [
    "user_articles_list = users['articles'].iloc[33]\n",
    "\n",
    "def get_user_embedding(user_articles_list, type='mean'):\n",
    "    user_articles_list = eval(user_articles_list)\n",
    "    user_vector = np.array([doc_dict[doc_id] for doc_id in user_articles_list])\n",
    "    if type == 'mean':\n",
    "        user_vector = np.mean(user_vector, 0)\n",
    "    if type == 'median':\n",
    "        user_vector = np.median(user_vector, 0)\n",
    "    if type == 'max':\n",
    "        user_vector = np.max(user_vector, 0)\n",
    "    return user_vector"
   ]
  },
  {
   "cell_type": "markdown",
   "metadata": {},
   "source": [
    "Теперь получим эмбединги для всех пользователей и проверим их качество на конкретной downstream-задаче"
   ]
  },
  {
   "cell_type": "code",
   "execution_count": 22,
   "metadata": {},
   "outputs": [
    {
     "name": "stdout",
     "output_type": "stream",
     "text": [
      "mean\n",
      "       uid   topic_0   topic_1   topic_2   topic_3   topic_4   topic_5\n",
      "0  u105138  0.007114  0.003732  0.012733  0.209529  0.000000  0.003575\n",
      "1  u108690  0.000000  0.023984  0.000000  0.192369  0.027175  0.009321\n",
      "2  u108339  0.000000  0.004649  0.028566  0.160421  0.050585  0.003566 ...\n",
      "--------------------\n",
      "median\n",
      "       uid  topic_0   topic_1   topic_2   topic_3   topic_4  topic_5\n",
      "0  u105138      0.0  0.000000  0.000000  0.200625  0.000000      0.0\n",
      "1  u108690      0.0  0.016178  0.000000  0.202552  0.021601      0.0\n",
      "2  u108339      0.0  0.000000  0.014625  0.155117  0.033427      0.0 ...\n",
      "--------------------\n",
      "max\n",
      "       uid   topic_0   topic_1   topic_2   topic_3   topic_4   topic_5\n",
      "0  u105138  0.042682  0.022394  0.076398  0.489120  0.000000  0.021449\n",
      "1  u108690  0.000000  0.070732  0.000000  0.296933  0.073270  0.035372\n",
      "2  u108339  0.000000  0.017497  0.073900  0.277568  0.189959  0.010723 ...\n",
      "--------------------\n"
     ]
    }
   ],
   "source": [
    "_type = ['mean', 'median', 'max']\n",
    "user_embeddings = {}\n",
    "for t in _type:\n",
    "    user_embeddings[t] = pd.DataFrame([i for i in users['articles'].apply(lambda x: get_user_embedding(x, t), 1)])\n",
    "    user_embeddings[t].columns = ['topic_{}'.format(i) for i in range(25)]\n",
    "    user_embeddings[t]['uid'] = users['uid'].values\n",
    "    user_embeddings[t] = user_embeddings[t][['uid']+['topic_{}'.format(i) for i in range(25)]]\n",
    "    print(t)\n",
    "    print(user_embeddings[t][['uid', 'topic_0', 'topic_1', 'topic_2', 'topic_3', 'topic_4', 'topic_5']].head(3), '...')\n",
    "    print('-'*20)"
   ]
  },
  {
   "cell_type": "markdown",
   "metadata": {},
   "source": [
    "Датасет готов - можно попробовать обучить модель. Загрузим нашу разметку"
   ]
  },
  {
   "cell_type": "code",
   "execution_count": 23,
   "outputs": [
    {
     "data": {
      "text/plain": "       uid   topic_0   topic_1   topic_2   topic_3   topic_4   topic_5  \\\n0  u105138  0.007114  0.003732  0.012733  0.209529  0.000000  0.003575   \n1  u108690  0.000000  0.023984  0.000000  0.192369  0.027175  0.009321   \n2  u108339  0.000000  0.004649  0.028566  0.160421  0.050585  0.003566   \n3  u101138  0.226551  0.000000  0.000000  0.014808  0.032495  0.006357   \n4  u108248  0.000000  0.005044  0.006924  0.144912  0.084440  0.004462   \n\n    topic_6   topic_7   topic_8  ...  topic_15  topic_16  topic_17  topic_18  \\\n0  0.072155  0.115151  0.007216  ...  0.000000  0.031956  0.000000  0.009838   \n1  0.025677  0.021112  0.012241  ...  0.005179  0.083633  0.030637  0.000000   \n2  0.026029  0.019083  0.009630  ...  0.000000  0.073422  0.023570  0.000000   \n3  0.002603  0.043486  0.014266  ...  0.017174  0.007160  0.000000  0.004415   \n4  0.027421  0.008094  0.006363  ...  0.002281  0.134383  0.082591  0.000000   \n\n   topic_19  topic_20  topic_21  topic_22  topic_23  topic_24  \n0  0.089210  0.049044  0.062300  0.003194  0.015041  0.000000  \n1  0.034662  0.145895  0.019547  0.003576  0.032695  0.002678  \n2  0.066183  0.163982  0.035994  0.013893  0.046608  0.003152  \n3  0.016196  0.174394  0.016279  0.000000  0.004119  0.000000  \n4  0.018037  0.064715  0.026306  0.025929  0.003955  0.000000  \n\n[5 rows x 26 columns]",
      "text/html": "<div>\n<style scoped>\n    .dataframe tbody tr th:only-of-type {\n        vertical-align: middle;\n    }\n\n    .dataframe tbody tr th {\n        vertical-align: top;\n    }\n\n    .dataframe thead th {\n        text-align: right;\n    }\n</style>\n<table border=\"1\" class=\"dataframe\">\n  <thead>\n    <tr style=\"text-align: right;\">\n      <th></th>\n      <th>uid</th>\n      <th>topic_0</th>\n      <th>topic_1</th>\n      <th>topic_2</th>\n      <th>topic_3</th>\n      <th>topic_4</th>\n      <th>topic_5</th>\n      <th>topic_6</th>\n      <th>topic_7</th>\n      <th>topic_8</th>\n      <th>...</th>\n      <th>topic_15</th>\n      <th>topic_16</th>\n      <th>topic_17</th>\n      <th>topic_18</th>\n      <th>topic_19</th>\n      <th>topic_20</th>\n      <th>topic_21</th>\n      <th>topic_22</th>\n      <th>topic_23</th>\n      <th>topic_24</th>\n    </tr>\n  </thead>\n  <tbody>\n    <tr>\n      <th>0</th>\n      <td>u105138</td>\n      <td>0.007114</td>\n      <td>0.003732</td>\n      <td>0.012733</td>\n      <td>0.209529</td>\n      <td>0.000000</td>\n      <td>0.003575</td>\n      <td>0.072155</td>\n      <td>0.115151</td>\n      <td>0.007216</td>\n      <td>...</td>\n      <td>0.000000</td>\n      <td>0.031956</td>\n      <td>0.000000</td>\n      <td>0.009838</td>\n      <td>0.089210</td>\n      <td>0.049044</td>\n      <td>0.062300</td>\n      <td>0.003194</td>\n      <td>0.015041</td>\n      <td>0.000000</td>\n    </tr>\n    <tr>\n      <th>1</th>\n      <td>u108690</td>\n      <td>0.000000</td>\n      <td>0.023984</td>\n      <td>0.000000</td>\n      <td>0.192369</td>\n      <td>0.027175</td>\n      <td>0.009321</td>\n      <td>0.025677</td>\n      <td>0.021112</td>\n      <td>0.012241</td>\n      <td>...</td>\n      <td>0.005179</td>\n      <td>0.083633</td>\n      <td>0.030637</td>\n      <td>0.000000</td>\n      <td>0.034662</td>\n      <td>0.145895</td>\n      <td>0.019547</td>\n      <td>0.003576</td>\n      <td>0.032695</td>\n      <td>0.002678</td>\n    </tr>\n    <tr>\n      <th>2</th>\n      <td>u108339</td>\n      <td>0.000000</td>\n      <td>0.004649</td>\n      <td>0.028566</td>\n      <td>0.160421</td>\n      <td>0.050585</td>\n      <td>0.003566</td>\n      <td>0.026029</td>\n      <td>0.019083</td>\n      <td>0.009630</td>\n      <td>...</td>\n      <td>0.000000</td>\n      <td>0.073422</td>\n      <td>0.023570</td>\n      <td>0.000000</td>\n      <td>0.066183</td>\n      <td>0.163982</td>\n      <td>0.035994</td>\n      <td>0.013893</td>\n      <td>0.046608</td>\n      <td>0.003152</td>\n    </tr>\n    <tr>\n      <th>3</th>\n      <td>u101138</td>\n      <td>0.226551</td>\n      <td>0.000000</td>\n      <td>0.000000</td>\n      <td>0.014808</td>\n      <td>0.032495</td>\n      <td>0.006357</td>\n      <td>0.002603</td>\n      <td>0.043486</td>\n      <td>0.014266</td>\n      <td>...</td>\n      <td>0.017174</td>\n      <td>0.007160</td>\n      <td>0.000000</td>\n      <td>0.004415</td>\n      <td>0.016196</td>\n      <td>0.174394</td>\n      <td>0.016279</td>\n      <td>0.000000</td>\n      <td>0.004119</td>\n      <td>0.000000</td>\n    </tr>\n    <tr>\n      <th>4</th>\n      <td>u108248</td>\n      <td>0.000000</td>\n      <td>0.005044</td>\n      <td>0.006924</td>\n      <td>0.144912</td>\n      <td>0.084440</td>\n      <td>0.004462</td>\n      <td>0.027421</td>\n      <td>0.008094</td>\n      <td>0.006363</td>\n      <td>...</td>\n      <td>0.002281</td>\n      <td>0.134383</td>\n      <td>0.082591</td>\n      <td>0.000000</td>\n      <td>0.018037</td>\n      <td>0.064715</td>\n      <td>0.026306</td>\n      <td>0.025929</td>\n      <td>0.003955</td>\n      <td>0.000000</td>\n    </tr>\n  </tbody>\n</table>\n<p>5 rows × 26 columns</p>\n</div>"
     },
     "execution_count": 23,
     "metadata": {},
     "output_type": "execute_result"
    }
   ],
   "source": [
    "user_embeddings['mean'].head()"
   ],
   "metadata": {
    "collapsed": false,
    "pycharm": {
     "name": "#%%\n"
    }
   }
  },
  {
   "cell_type": "code",
   "execution_count": 24,
   "metadata": {},
   "outputs": [],
   "source": [
    "def plot_confusion_matrix(cm, classes,\n",
    "                          normalize=False,\n",
    "                          title='Confusion matrix',\n",
    "                          cmap=plt.cm.Blues):\n",
    "    \"\"\"\n",
    "    This function prints and plots the confusion matrix.\n",
    "    Normalization can be applied by setting `normalize=True`.\n",
    "    \"\"\"\n",
    "    plt.imshow(cm, interpolation='nearest', cmap=cmap)\n",
    "    plt.title(title)\n",
    "    plt.colorbar()\n",
    "    tick_marks = np.arange(len(classes))\n",
    "    plt.xticks(tick_marks, classes, rotation=45)\n",
    "    plt.yticks(tick_marks, classes)\n",
    "\n",
    "    if normalize:\n",
    "        cm = cm.astype('float') / cm.sum(axis=1)[:, np.newaxis]\n",
    "        print(\"Normalized confusion matrix\")\n",
    "    else:\n",
    "        print('Confusion matrix, without normalization')\n",
    "\n",
    "    print(cm)\n",
    "\n",
    "    thresh = cm.max() / 2.\n",
    "    for i, j in itertools.product(range(cm.shape[0]), range(cm.shape[1])):\n",
    "        plt.text(j, i, cm[i, j],\n",
    "                 horizontalalignment=\"center\",\n",
    "                 color=\"white\" if cm[i, j] > thresh else \"black\")\n",
    "\n",
    "    plt.tight_layout()\n",
    "    plt.ylabel('True label')\n",
    "    plt.xlabel('Predicted label')"
   ]
  },
  {
   "cell_type": "code",
   "execution_count": 25,
   "outputs": [
    {
     "data": {
      "text/plain": "       uid  churn\n0  u107120      0\n1  u102277      0\n2  u102444      0\n3  u103439      0\n4  u104300      0",
      "text/html": "<div>\n<style scoped>\n    .dataframe tbody tr th:only-of-type {\n        vertical-align: middle;\n    }\n\n    .dataframe tbody tr th {\n        vertical-align: top;\n    }\n\n    .dataframe thead th {\n        text-align: right;\n    }\n</style>\n<table border=\"1\" class=\"dataframe\">\n  <thead>\n    <tr style=\"text-align: right;\">\n      <th></th>\n      <th>uid</th>\n      <th>churn</th>\n    </tr>\n  </thead>\n  <tbody>\n    <tr>\n      <th>0</th>\n      <td>u107120</td>\n      <td>0</td>\n    </tr>\n    <tr>\n      <th>1</th>\n      <td>u102277</td>\n      <td>0</td>\n    </tr>\n    <tr>\n      <th>2</th>\n      <td>u102444</td>\n      <td>0</td>\n    </tr>\n    <tr>\n      <th>3</th>\n      <td>u103439</td>\n      <td>0</td>\n    </tr>\n    <tr>\n      <th>4</th>\n      <td>u104300</td>\n      <td>0</td>\n    </tr>\n  </tbody>\n</table>\n</div>"
     },
     "execution_count": 25,
     "metadata": {},
     "output_type": "execute_result"
    }
   ],
   "source": [
    "target = pd.read_csv(\"users_churn.csv\")\n",
    "target.head()"
   ],
   "metadata": {
    "collapsed": false,
    "pycharm": {
     "name": "#%%\n"
    }
   }
  },
  {
   "cell_type": "code",
   "execution_count": 26,
   "outputs": [],
   "source": [
    "X = {}\n",
    "for t in _type:\n",
    "    X[t] = pd.merge(user_embeddings[t], target, 'left')\n",
    "    X[t].head(3)"
   ],
   "metadata": {
    "collapsed": false,
    "pycharm": {
     "name": "#%%\n"
    }
   }
  },
  {
   "cell_type": "code",
   "execution_count": 27,
   "outputs": [
    {
     "name": "stdout",
     "output_type": "stream",
     "text": [
      "mean\n",
      "Best Threshold=0.225513, F-Score=0.667, Precision=0.594, Recall=0.759\n",
      "roc_auc_score 0.9394429908715622\n",
      "Confusion matrix, without normalization\n",
      "[[1628  127]\n",
      " [  60  185]]\n"
     ]
    },
    {
     "data": {
      "text/plain": "<Figure size 720x576 with 2 Axes>",
      "image/png": "[encoded data removed]"
     },
     "metadata": {
      "needs_background": "light"
     },
     "output_type": "display_data"
    },
    {
     "name": "stdout",
     "output_type": "stream",
     "text": [
      "--------------------\n",
      "median\n",
      "Best Threshold=0.266575, F-Score=0.778, Precision=0.727, Recall=0.837\n",
      "roc_auc_score 0.9730123844409558\n",
      "Confusion matrix, without normalization\n",
      "[[1678   77]\n",
      " [  41  204]]\n"
     ]
    },
    {
     "data": {
      "text/plain": "<Figure size 720x576 with 2 Axes>",
      "image/png": "[encoded data removed]"
     },
     "metadata": {
      "needs_background": "light"
     },
     "output_type": "display_data"
    },
    {
     "name": "stdout",
     "output_type": "stream",
     "text": [
      "--------------------\n",
      "max\n",
      "Best Threshold=0.342205, F-Score=0.804, Precision=0.781, Recall=0.829\n",
      "roc_auc_score 0.9770242455956741\n",
      "Confusion matrix, without normalization\n",
      "[[1698   57]\n",
      " [  43  202]]\n"
     ]
    },
    {
     "data": {
      "text/plain": "<Figure size 720x576 with 2 Axes>",
      "image/png": "[encoded data removed]"
     },
     "metadata": {
      "needs_background": "light"
     },
     "output_type": "display_data"
    },
    {
     "name": "stdout",
     "output_type": "stream",
     "text": [
      "--------------------\n"
     ]
    }
   ],
   "source": [
    "_metrics = {}\n",
    "for t in _type:\n",
    "    print(t)\n",
    "    #разделим данные на train/test\n",
    "    X_train, X_test, y_train, y_test = train_test_split(X[t][['topic_{}'.format(i) for i in range(25)]],\n",
    "                                                        X[t]['churn'], random_state=0)\n",
    "    logreg = LogisticRegression()\n",
    "    #обучим\n",
    "    logreg.fit(X_train, y_train)\n",
    "    #наши прогнозы для тестовой выборки\n",
    "    preds = logreg.predict_proba(X_test)[:, 1]\n",
    "    # print(preds[:10])\n",
    "\n",
    "    precision, recall, thresholds = precision_recall_curve(y_test, preds)\n",
    "    fscore = (2 * precision * recall) / (precision + recall)\n",
    "    roc_auc = roc_auc_score(y_test, preds)\n",
    "    # locate the index of the largest f score\n",
    "    ix = np.argmax(fscore)\n",
    "    _metrics[t] = [precision[ix], recall[ix], fscore[ix], roc_auc]\n",
    "    print('Best Threshold=%f, F-Score=%.3f, Precision=%.3f, Recall=%.3f' % (thresholds[ix],\n",
    "                                                                            fscore[ix],\n",
    "                                                                            precision[ix],\n",
    "                                                                            recall[ix]))\n",
    "    print('roc_auc_score', roc_auc)\n",
    "\n",
    "    #мы уже нашли ранее \"оптимальный\" порог, когда максимизировали f_score\n",
    "    font = {'size' : 15}\n",
    "    plt.rc('font', **font)\n",
    "    cnf_matrix = confusion_matrix(y_test, preds>thresholds[ix])\n",
    "    plt.figure(figsize=(10, 8))\n",
    "    plot_confusion_matrix(cnf_matrix, classes=['Non-Churn', 'churn'], title='Confusion matrix')\n",
    "    plt.savefig(\"conf_matrix.png\")\n",
    "    plt.show()\n",
    "\n",
    "    print('-'*20)"
   ],
   "metadata": {
    "collapsed": false,
    "pycharm": {
     "name": "#%%\n"
    }
   }
  },
  {
   "cell_type": "markdown",
   "source": [
    "### Сформируем на выходе единую таблицу, сравнивающую качество 3 разных метода получения эмбедингов пользователей: mean, median, max, idf_mean по метрикам  Precision, Recall, F_score и roc auc"
   ],
   "metadata": {
    "collapsed": false
   }
  },
  {
   "cell_type": "code",
   "execution_count": 28,
   "outputs": [
    {
     "data": {
      "text/plain": "        precision    recall    fscore   roc_auc\nmean     0.594249  0.759184  0.666667  0.939443\nmedian   0.726950  0.836735  0.777989  0.973012\nmax      0.780769  0.828571  0.803960  0.977024",
      "text/html": "<div>\n<style scoped>\n    .dataframe tbody tr th:only-of-type {\n        vertical-align: middle;\n    }\n\n    .dataframe tbody tr th {\n        vertical-align: top;\n    }\n\n    .dataframe thead th {\n        text-align: right;\n    }\n</style>\n<table border=\"1\" class=\"dataframe\">\n  <thead>\n    <tr style=\"text-align: right;\">\n      <th></th>\n      <th>precision</th>\n      <th>recall</th>\n      <th>fscore</th>\n      <th>roc_auc</th>\n    </tr>\n  </thead>\n  <tbody>\n    <tr>\n      <th>mean</th>\n      <td>0.594249</td>\n      <td>0.759184</td>\n      <td>0.666667</td>\n      <td>0.939443</td>\n    </tr>\n    <tr>\n      <th>median</th>\n      <td>0.726950</td>\n      <td>0.836735</td>\n      <td>0.777989</td>\n      <td>0.973012</td>\n    </tr>\n    <tr>\n      <th>max</th>\n      <td>0.780769</td>\n      <td>0.828571</td>\n      <td>0.803960</td>\n      <td>0.977024</td>\n    </tr>\n  </tbody>\n</table>\n</div>"
     },
     "execution_count": 28,
     "metadata": {},
     "output_type": "execute_result"
    }
   ],
   "source": [
    "metrics = pd.DataFrame.from_dict(_metrics, orient='index', columns=['precision', 'recall', 'fscore', 'roc_auc'])\n",
    "metrics"
   ],
   "metadata": {
    "collapsed": false,
    "pycharm": {
     "name": "#%%\n"
    }
   }
  },
  {
   "cell_type": "markdown",
   "metadata": {},
   "source": [
    "В целом мы видим, что получившиеся векторные представления содержат какой-то сигнал и позволяют решать нашу прикладную задачу."
   ]
  },
  {
   "cell_type": "code",
   "execution_count": null,
   "metadata": {},
   "outputs": [],
   "source": []
  }
 ],
 "metadata": {
  "kernelspec": {
   "name": "python3",
   "language": "python",
   "display_name": "Python 3"
  },
  "language_info": {
   "codemirror_mode": {
    "name": "ipython",
    "version": 3
   },
   "file_extension": ".py",
   "mimetype": "text/x-python",
   "name": "python",
   "nbconvert_exporter": "python",
   "pygments_lexer": "ipython3",
   "version": "3.8.3"
  }
 },
 "nbformat": 4,
 "nbformat_minor": 2
}